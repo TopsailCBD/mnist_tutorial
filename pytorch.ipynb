{
 "cells": [
  {
   "cell_type": "markdown",
   "metadata": {},
   "source": [
    "# Pytorch Tutorial"
   ]
  },
  {
   "cell_type": "markdown",
   "metadata": {},
   "source": [
    "Pytorch is a popular deep learning framework and it's easy to get started."
   ]
  },
  {
   "cell_type": "code",
   "execution_count": 22,
   "metadata": {
    "collapsed": true
   },
   "outputs": [],
   "source": [
    "import torch\n",
    "import torch.nn as nn\n",
    "import torch.utils.data as data\n",
    "import torchvision\n",
    "import torchvision.transforms as transforms\n",
    "from tqdm import tqdm\n",
    "import time\n",
    "\n",
    "BATCH_SIZE = 128\n",
    "NUM_EPOCHS = 10"
   ]
  },
  {
   "cell_type": "markdown",
   "metadata": {},
   "source": [
    "First, we read the mnist data, preprocess them and encapsulate them into dataloader form."
   ]
  },
  {
   "cell_type": "code",
   "execution_count": 23,
   "metadata": {
    "collapsed": true,
    "tags": []
   },
   "outputs": [],
   "source": [
    "# preprocessing\n",
    "normalize = transforms.Normalize(mean=[.5], std=[.5])\n",
    "transform = transforms.Compose([transforms.ToTensor(), normalize])\n",
    "\n",
    "# download and load the data\n",
    "train_dataset = torchvision.datasets.MNIST(root='./mnist/', train=True, transform=transform, download=True)\n",
    "test_dataset = torchvision.datasets.MNIST(root='./mnist/', train=False, transform=transform, download=False)\n",
    "\n",
    "# encapsulate them into dataloader form\n",
    "train_loader = data.DataLoader(train_dataset, batch_size=BATCH_SIZE, shuffle=True, drop_last=True)\n",
    "test_loader = data.DataLoader(test_dataset, batch_size=BATCH_SIZE, shuffle=False, drop_last=True)"
   ]
  },
  {
   "cell_type": "markdown",
   "metadata": {},
   "source": [
    "Then, we define the model, object function and optimizer that we use to classify."
   ]
  },
  {
   "cell_type": "code",
   "execution_count": 24,
   "metadata": {
    "collapsed": true
   },
   "outputs": [],
   "source": [
    "class Flatten(nn.Module):\n",
    "    def forward(self,x):\n",
    "        return x.view(x.shape[0],-1)\n",
    "\n",
    "class Reshape(nn.Module):\n",
    "    def forward(self,x):\n",
    "        return x.view(-1,1,28,28)\n",
    "\n",
    "LEARNINGRATE=0.9\n",
    "\n",
    "def init_weights(layer):\n",
    "    if type(layer)==nn.Linear or type(layer)==nn.Conv2d:\n",
    "        torch.nn.init.xavier_uniform_(layer.weight)\n",
    "\n",
    "class SimpleNet(nn.Module):\n",
    "# TODO:define model\n",
    "    def __init__(self):\n",
    "        super().__init__()\n",
    "        self.net=nn.Sequential(\n",
    "            Reshape(),\n",
    "            nn.Conv2d(in_channels=1,out_channels=6,kernel_size=5,stride=1,padding=2),\n",
    "            nn.Sigmoid(),\n",
    "            nn.AvgPool2d(kernel_size=2,stride=2),\n",
    "            nn.Conv2d(in_channels=6,out_channels=16,kernel_size=5),\n",
    "            nn.Sigmoid(),\n",
    "            nn.AvgPool2d(kernel_size=2,stride=2),\n",
    "            Flatten(),\n",
    "            nn.Linear(in_features=16*5*5,out_features=120),\n",
    "            nn.ReLU(),\n",
    "            nn.Linear(120,84),\n",
    "            nn.ReLU(),\n",
    "            nn.Linear(84,10)\n",
    "            )\n",
    "        self.net.apply(init_weights)\n",
    "\n",
    "    def forward(self,x):\n",
    "        x=self.net(x)\n",
    "        return x\n",
    "    \n",
    "model = SimpleNet()\n",
    "\n",
    "# TODO:define loss function and optimiter\n",
    "criterion = nn.CrossEntropyLoss()\n",
    "optimizer = torch.optim.SGD(model.parameters(),lr=LEARNINGRATE,momentum=0.1)"
   ]
  },
  {
   "cell_type": "markdown",
   "metadata": {},
   "source": [
    "Next, we can start to train and evaluate!"
   ]
  },
  {
   "cell_type": "code",
   "execution_count": 25,
   "metadata": {
    "collapsed": true,
    "scrolled": true
   },
   "outputs": [
    {
     "output_type": "stream",
     "name": "stderr",
     "text": [
      "100%|██████████| 468/468 [00:53<00:00,  8.80it/s]\n",
      "Epoch 1, Loss: 0.0088, Training accuracy: 94.44%, Testing accuracy: 94.41%\n",
      "100%|██████████| 468/468 [00:52<00:00,  8.90it/s]\n",
      "Epoch 2, Loss: 0.0010, Training accuracy: 96.95%, Testing accuracy: 96.88%\n",
      "100%|██████████| 468/468 [00:53<00:00,  8.78it/s]\n",
      "Epoch 3, Loss: 0.0006, Training accuracy: 97.53%, Testing accuracy: 97.35%\n",
      "100%|██████████| 468/468 [00:53<00:00,  8.78it/s]\n",
      "Epoch 4, Loss: 0.0005, Training accuracy: 98.51%, Testing accuracy: 98.29%\n",
      "100%|██████████| 468/468 [00:53<00:00,  8.83it/s]\n",
      "Epoch 5, Loss: 0.0004, Training accuracy: 98.67%, Testing accuracy: 98.49%\n",
      "100%|██████████| 468/468 [00:57<00:00,  8.20it/s]\n",
      "Epoch 6, Loss: 0.0003, Training accuracy: 99.05%, Testing accuracy: 98.57%\n",
      "100%|██████████| 468/468 [00:54<00:00,  8.58it/s]\n",
      "Epoch 7, Loss: 0.0003, Training accuracy: 99.05%, Testing accuracy: 98.62%\n",
      "100%|██████████| 468/468 [00:56<00:00,  8.28it/s]\n",
      "Epoch 8, Loss: 0.0003, Training accuracy: 99.20%, Testing accuracy: 98.87%\n",
      "100%|██████████| 468/468 [00:59<00:00,  7.84it/s]\n",
      "Epoch 9, Loss: 0.0002, Training accuracy: 99.31%, Testing accuracy: 98.69%\n",
      "100%|██████████| 468/468 [01:01<00:00,  7.58it/s]\n",
      "Epoch 10, Loss: 0.0002, Training accuracy: 99.40%, Testing accuracy: 98.82%\n"
     ]
    }
   ],
   "source": [
    "# train and evaluate\n",
    "for epoch in range(NUM_EPOCHS):\n",
    "    train_loss=torch.tensor([0.0],dtype=torch.float32)\n",
    "    for images, labels in tqdm(train_loader):\n",
    "        # TODO:forward + backward + optimize\n",
    "        model.net.train()\n",
    "        \n",
    "        optimizer.zero_grad()\n",
    "        pred=model.forward(images)\n",
    "        loss=criterion(pred,labels)\n",
    "        loss.backward()\n",
    "        optimizer.step()\n",
    "\n",
    "        with torch.no_grad():\n",
    "            train_loss+=loss.float()\n",
    "\n",
    "\n",
    "    # evaluate\n",
    "    # TODO:calculate the accuracy using training and testing dataset\n",
    "    train_num=0\n",
    "    train_accuracy=torch.tensor([0.0],dtype=torch.float32)\n",
    "    for images,labels in train_loader:\n",
    "        with torch.no_grad():\n",
    "            labels=labels.long()\n",
    "            train_pred=model.forward(images)\n",
    "            train_accuracy+=(torch.sum(torch.argmax(train_pred,dim=1)==labels)).float()     \n",
    "            train_num+=train_pred.shape[0]\n",
    "\n",
    "    test_num=0\n",
    "    test_accuracy=torch.tensor([0.0],dtype=torch.float32)\n",
    "    for images, labels in test_loader:  \n",
    "        model.net.eval()\n",
    "        with torch.no_grad():\n",
    "            labels=labels.long()\n",
    "            test_pred=model.forward(images)\n",
    "            test_accuracy+=(torch.sum(torch.argmax(test_pred,dim=1)==labels)).float()     \n",
    "            test_num+=test_pred.shape[0]\n",
    "    print('Epoch %d, Loss: %0.4f, Training accuracy: %0.2f%%, Testing accuracy: %0.2f%%' % (epoch+1,train_loss/train_num,train_accuracy*100/train_num,test_accuracy*100/test_num))\n",
    "    time.sleep(1)"
   ]
  },
  {
   "cell_type": "markdown",
   "metadata": {},
   "source": [
    "#### Q5:\n",
    "Please print the training and testing accuracy."
   ]
  }
 ],
 "metadata": {
  "kernelspec": {
   "name": "python385jvsc74a57bd040599f8c77153e2f77be629777481bfab2256e90e91f6af201811cf5d78cf87c",
   "display_name": "Python 3.8.5 64-bit ('base': conda)"
  },
  "language_info": {
   "codemirror_mode": {
    "name": "ipython",
    "version": 3
   },
   "file_extension": ".py",
   "mimetype": "text/x-python",
   "name": "python",
   "nbconvert_exporter": "python",
   "pygments_lexer": "ipython3",
   "version": "3.8.5"
  }
 },
 "nbformat": 4,
 "nbformat_minor": 2
}
